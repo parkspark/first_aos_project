{
 "cells": [
  {
   "attachments": {},
   "cell_type": "markdown",
   "metadata": {},
   "source": [
    "# What is Kivy?\n",
    "\n",
    "Kivy는 Android, iOS, Windows, macOS, Linux 등의 플랫폼에서 실행되는 애플리케이션을 만드는 데 사용.\n",
    "\n",
    "Kivy는 사용하기 쉬운 API를 제공하며, 이를 통해 개발자들은 소프트웨어의 사용자 인터페이스(UI)와 상호 작용을 구현할 수 있다. \n",
    "Kivy는 그래픽, 텍스트 렌더링, 애니메이션, 사용자 입력 처리 등의 기능을 지원, 동시에 성능 최적화를 위해 GPU 가속을 이용.\n",
    "\n",
    "\n",
    "# The good stuff about Kivy\n",
    "\n",
    "1. 다양한 플랫폼 지원: Kivy는 Android, iOS, Windows, macOS, Linux 등 다양한 플랫폼에서 작동하는 애플리케이션 개발을 지원.\n",
    "2. 사용자 인터페이스(UI) 구성: Kivy는 사용자 인터페이스를 구성하기 위한 다양한 위젯(버튼, 슬라이더, 텍스트 입력 상자 등)을 제공.\n",
    "3. 멀티 터치 지원: Kivy는 멀티 터치 이벤트를 처리할 수 있어, 터치 스크린 기반의 애플리케이션 개발에 적합.\n",
    "4. 이벤트 기반 프로그래밍: Kivy는 이벤트 기반 프로그래밍 모델을 사용하여, 사용자 입력 및 다른 이벤트에 대한 응답을 처리.\n",
    "5. 성능 최적화: Kivy는 OpenGL ES 2를 사용하여 그래픽 렌더링을 가속화하고, 애플리케이션 성능을 최적화."
   ]
  },
  {
   "attachments": {},
   "cell_type": "markdown",
   "metadata": {},
   "source": [
    "### 빠르게 개발하고 프로토타입을 만들 수 있음!"
   ]
  },
  {
   "attachments": {},
   "cell_type": "markdown",
   "metadata": {},
   "source": [
    "## 1. kivy 라이브러리 설치\n",
    "Kivy 라이브러리 - \n",
    "\n",
    "pip install kivy[base] kivy_examples\n",
    "\n",
    "1. kivy[base]\n",
    "    kivy 기본 버전 설치, [base] 기본 기능만 포함하고 추가적인 종속성은 설치하지 않음.\n",
    "\n",
    "2. kivy_exmaple\n",
    "    kivy라이브러리와 함꼐 제공되는 예제 코드."
   ]
  },
  {
   "cell_type": "code",
   "execution_count": null,
   "metadata": {},
   "outputs": [],
   "source": []
  }
 ],
 "metadata": {
  "kernelspec": {
   "display_name": "Python 3",
   "language": "python",
   "name": "python3"
  },
  "language_info": {
   "codemirror_mode": {
    "name": "ipython",
    "version": 3
   },
   "file_extension": ".py",
   "mimetype": "text/x-python",
   "name": "python",
   "nbconvert_exporter": "python",
   "pygments_lexer": "ipython3",
   "version": "3.7.9"
  },
  "orig_nbformat": 4
 },
 "nbformat": 4,
 "nbformat_minor": 2
}
